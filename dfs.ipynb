{
  "nbformat": 4,
  "nbformat_minor": 0,
  "metadata": {
    "colab": {
      "name": "dfs.ipynb",
      "provenance": [],
      "collapsed_sections": [],
      "authorship_tag": "ABX9TyPzlKHE0CrBXhT0QjvWLAQV",
      "include_colab_link": true
    },
    "kernelspec": {
      "name": "python3",
      "display_name": "Python 3"
    }
  },
  "cells": [
    {
      "cell_type": "markdown",
      "metadata": {
        "id": "view-in-github",
        "colab_type": "text"
      },
      "source": [
        "<a href=\"https://colab.research.google.com/github/asramasrat/AI_lab/blob/master/dfs.ipynb\" target=\"_parent\"><img src=\"https://colab.research.google.com/assets/colab-badge.svg\" alt=\"Open In Colab\"/></a>"
      ]
    },
    {
      "cell_type": "code",
      "metadata": {
        "id": "tQTm56qK2A-7",
        "colab_type": "code",
        "colab": {
          "base_uri": "https://localhost:8080/",
          "height": 158
        },
        "outputId": "8535ffcb-112c-40dd-973b-8b1c51340a5b"
      },
      "source": [
        "graph = {\n",
        "    \"S\":[\"A\",\"D\"],\n",
        "    \"A\":[\"B\",\"D\",\"S\"],\n",
        "    \"B\":[\"A\",\"C\",\"E\"],\n",
        "    \"C\":[\"B\"],\n",
        "    \"D\":[\"A\",\"E\",\"S\"],\n",
        "    \"E\":[\"B\",\"D\",\"F\"],\n",
        "    \"F\":[\"E\",\"G\"],\n",
        "    \"G\":[\"F\"]\n",
        "    \n",
        "}\n",
        "\n",
        "visited = set()\n",
        "\n",
        "def dfs(visited, graph, node):\n",
        "    if node not in visited:\n",
        "        print (node)\n",
        "        visited.add(node)\n",
        "        for neighbour in graph[node]:\n",
        "            dfs(visited, graph, neighbour)\n",
        "\n",
        "dfs(visited, graph, 'S')"
      ],
      "execution_count": 1,
      "outputs": [
        {
          "output_type": "stream",
          "text": [
            "S\n",
            "A\n",
            "B\n",
            "C\n",
            "E\n",
            "D\n",
            "F\n",
            "G\n"
          ],
          "name": "stdout"
        }
      ]
    },
    {
      "cell_type": "code",
      "metadata": {
        "id": "a86PlfDd2FYu",
        "colab_type": "code",
        "colab": {}
      },
      "source": [
        ""
      ],
      "execution_count": null,
      "outputs": []
    }
  ]
}