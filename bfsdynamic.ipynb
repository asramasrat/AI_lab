{
  "nbformat": 4,
  "nbformat_minor": 0,
  "metadata": {
    "colab": {
      "name": "bfsdynamic.ipynb",
      "provenance": [],
      "collapsed_sections": [],
      "authorship_tag": "ABX9TyOjrpW9Lv4xTGt4vdIrv3ch",
      "include_colab_link": true
    },
    "kernelspec": {
      "name": "python3",
      "display_name": "Python 3"
    }
  },
  "cells": [
    {
      "cell_type": "markdown",
      "metadata": {
        "id": "view-in-github",
        "colab_type": "text"
      },
      "source": [
        "<a href=\"https://colab.research.google.com/github/asramasrat/AI_lab/blob/master/bfsdynamic.ipynb\" target=\"_parent\"><img src=\"https://colab.research.google.com/assets/colab-badge.svg\" alt=\"Open In Colab\"/></a>"
      ]
    },
    {
      "cell_type": "code",
      "metadata": {
        "id": "pSQXy1gOllnE",
        "colab_type": "code",
        "colab": {
          "base_uri": "https://localhost:8080/",
          "height": 899
        },
        "outputId": "93bb2238-f46e-421f-da2c-59292832fe00"
      },
      "source": [
        "from queue import Queue\n",
        "n= int(input(\"enter the number of vertices\"))\n",
        "adj_list={}\n",
        "for i in range(n):\n",
        "    keys=input(\"enter a vertex\")\n",
        "    x=int(input(\"enter the number of adjacent nodes the above vertex has\"))\n",
        "    values=[]\n",
        "    print(\"enter the adjacent nodes one by one\")\n",
        "    for n in range(x):\n",
        "        t= input()\n",
        "        values.append(t)\n",
        "    adj_list[keys]=values\n",
        "print(adj_list)\n",
        "\n",
        "\n",
        "\n",
        "visited ={}\n",
        "level ={}\n",
        "parent = {}\n",
        "bfs_traversal_op =[]\n",
        "queue = Queue()\n",
        "    \n",
        "for node in adj_list.keys():\n",
        "    visited[node] = False\n",
        "    parent[node] = None\n",
        "    level[node] = -1\n",
        "    \n",
        "root = input(\"enter the root node\")\n",
        "visited[root] =True\n",
        "level[root] = 0\n",
        "queue.put(root)\n",
        "\n",
        "while not queue.empty():\n",
        "    u = queue.get()\n",
        "    bfs_traversal_op.append(u)\n",
        "    \n",
        "    for v in adj_list[u]:\n",
        "        if not visited[v]:\n",
        "            visited[v] = True\n",
        "            parent[v] = u\n",
        "            level[v] = level[u]+1\n",
        "            queue.put(v)\n",
        "print (bfs_traversal_op)\n",
        "\n",
        "v = input(\"enter destination node\")\n",
        "path = []\n",
        "while v is not None:\n",
        "    path.append(v)\n",
        "    v= parent[v]\n",
        "path.reverse()\n",
        "print(\"\")\n",
        "print (path)\n",
        "\n"
      ],
      "execution_count": 3,
      "outputs": [
        {
          "output_type": "stream",
          "text": [
            "enter the number of vertices8\n",
            "enter a vertexS\n",
            "enter the number of adjacent nodes the above vertex has2\n",
            "enter the adjacent nodes one by one\n",
            "A\n",
            "D\n",
            "enter a vertexA\n",
            "enter the number of adjacent nodes the above vertex has3\n",
            "enter the adjacent nodes one by one\n",
            "B\n",
            "D\n",
            "S\n",
            "enter a vertexD\n",
            "enter the number of adjacent nodes the above vertex has3\n",
            "enter the adjacent nodes one by one\n",
            "A\n",
            "E\n",
            "S\n",
            "enter a vertexB\n",
            "enter the number of adjacent nodes the above vertex has3\n",
            "enter the adjacent nodes one by one\n",
            "A\n",
            "C\n",
            "E\n",
            "enter a vertexE\n",
            "enter the number of adjacent nodes the above vertex has3\n",
            "enter the adjacent nodes one by one\n",
            "B\n",
            "D\n",
            "F\n",
            "enter a vertexF\n",
            "enter the number of adjacent nodes the above vertex has2\n",
            "enter the adjacent nodes one by one\n",
            "E\n",
            "G\n",
            "enter a vertexG\n",
            "enter the number of adjacent nodes the above vertex has1\n",
            "enter the adjacent nodes one by one\n",
            "F\n",
            "enter a vertexC\n",
            "enter the number of adjacent nodes the above vertex has1\n",
            "enter the adjacent nodes one by one\n",
            "B\n",
            "{'S': ['A', 'D'], 'A': ['B', 'D', 'S'], 'D': ['A', 'E', 'S'], 'B': ['A', 'C', 'E'], 'E': ['B', 'D', 'F'], 'F': ['E', 'G'], 'G': ['F'], 'C': ['B']}\n",
            "enter the root nodeS\n",
            "['S', 'A', 'D', 'B', 'E', 'C', 'F', 'G']\n",
            "enter destination nodeG\n",
            "\n",
            "['S', 'D', 'E', 'F', 'G']\n"
          ],
          "name": "stdout"
        }
      ]
    }
  ]
}