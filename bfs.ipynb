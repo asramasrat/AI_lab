{
  "nbformat": 4,
  "nbformat_minor": 0,
  "metadata": {
    "colab": {
      "name": "bfs.ipynb",
      "provenance": [],
      "collapsed_sections": [],
      "authorship_tag": "ABX9TyPHhb67G/eTYTJSp+F1TTUi",
      "include_colab_link": true
    },
    "kernelspec": {
      "name": "python3",
      "display_name": "Python 3"
    }
  },
  "cells": [
    {
      "cell_type": "markdown",
      "metadata": {
        "id": "view-in-github",
        "colab_type": "text"
      },
      "source": [
        "<a href=\"https://colab.research.google.com/github/asramasrat/AI_lab/blob/master/bfs.ipynb\" target=\"_parent\"><img src=\"https://colab.research.google.com/assets/colab-badge.svg\" alt=\"Open In Colab\"/></a>"
      ]
    },
    {
      "cell_type": "code",
      "metadata": {
        "id": "Hjj2IjIkiI03",
        "colab_type": "code",
        "colab": {
          "base_uri": "https://localhost:8080/",
          "height": 70
        },
        "outputId": "24cfbc84-9e62-4f81-8998-05bace1d4143"
      },
      "source": [
        "from queue import Queue\n",
        "adj_list = {\n",
        "    \"A\":[\"B\",\"D\",\"S\"],\n",
        "    \"B\":[\"A\",\"C\",\"E\"],\n",
        "    \"C\":[\"B\"],\n",
        "    \"D\":[\"A\",\"E\",\"S\"],\n",
        "    \"E\":[\"B\",\"D\",\"F\"],\n",
        "    \"F\":[\"E\",\"G\"],\n",
        "    \"G\":[\"F\"],\n",
        "    \"S\":[\"A\",\"D\"]\n",
        "}\n",
        "\n",
        "\n",
        "\n",
        "visited ={}\n",
        "level ={}\n",
        "parent = {}\n",
        "bfs_traversal_op =[]\n",
        "queue = Queue()\n",
        "\n",
        "for node in adj_list.keys():\n",
        "    visited[node] = False\n",
        "    parent[node] = None\n",
        "    level[node] = -1\n",
        "    \n",
        "\n",
        "s = \"S\"\n",
        "visited[s] =True\n",
        "level[s] = 0\n",
        "queue.put(s)\n",
        "\n",
        "while not queue.empty():\n",
        "    u = queue.get()\n",
        "    bfs_traversal_op.append(u)\n",
        "    \n",
        "    for v in adj_list[u]:\n",
        "        if not visited[v]:\n",
        "            visited[v] = True\n",
        "            parent[v] = u\n",
        "            level[v] = level[u]+1\n",
        "            queue.put(v)\n",
        "print (bfs_traversal_op)\n",
        "\n",
        "v = \"G\"\n",
        "path = []\n",
        "while v is not None:\n",
        "    path.append(v)\n",
        "    v= parent[v]\n",
        "path.reverse()\n",
        "print(\"\")\n",
        "print (path)"
      ],
      "execution_count": 3,
      "outputs": [
        {
          "output_type": "stream",
          "text": [
            "['S', 'A', 'D', 'B', 'E', 'C', 'F', 'G']\n",
            "\n",
            "['S', 'D', 'E', 'F', 'G']\n"
          ],
          "name": "stdout"
        }
      ]
    }
  ]
}